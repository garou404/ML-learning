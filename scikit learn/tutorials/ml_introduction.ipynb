{
 "cells": [
  {
   "cell_type": "markdown",
   "source": [
    "<h2>An introduction to machine learning with scikit-learn</2>"
   ],
   "metadata": {
    "collapsed": false
   },
   "id": "7b0860fe87654948"
  },
  {
   "cell_type": "markdown",
   "source": [
    "Loading an example dataset"
   ],
   "metadata": {
    "collapsed": false
   },
   "id": "5a1fe3f88763de07"
  },
  {
   "cell_type": "code",
   "execution_count": 3,
   "id": "initial_id",
   "metadata": {
    "collapsed": true,
    "ExecuteTime": {
     "end_time": "2023-10-19T16:52:07.801189500Z",
     "start_time": "2023-10-19T16:52:07.312604Z"
    }
   },
   "outputs": [
    {
     "name": "stdout",
     "output_type": "stream",
     "text": [
      "(1797, 64)\n",
      "[0 1 2 ... 8 9 8]\n",
      "[[ 0.  0.  5. 13.  9.  1.  0.  0.]\n",
      " [ 0.  0. 13. 15. 10. 15.  5.  0.]\n",
      " [ 0.  3. 15.  2.  0. 11.  8.  0.]\n",
      " [ 0.  4. 12.  0.  0.  8.  8.  0.]\n",
      " [ 0.  5.  8.  0.  0.  9.  8.  0.]\n",
      " [ 0.  4. 11.  0.  1. 12.  7.  0.]\n",
      " [ 0.  2. 14.  5. 10. 12.  0.  0.]\n",
      " [ 0.  0.  6. 13. 10.  0.  0.  0.]]\n"
     ]
    }
   ],
   "source": [
    "from sklearn import datasets\n",
    "\n",
    "iris = datasets.load_iris()\n",
    "digits = datasets.load_digits()\n",
    "\n",
    "print(digits.data.shape) # data\n",
    "print(digits.target) # target values\n",
    "\n",
    "print(digits.images[0]) # original sample of the digits data (image of shape (8,8))"
   ]
  },
  {
   "cell_type": "markdown",
   "source": [
    "Learning and predicting"
   ],
   "metadata": {
    "collapsed": false
   },
   "id": "f99cbb3c4ae54017"
  },
  {
   "cell_type": "markdown",
   "source": [
    "In scikit-learn, an estimator for classification is a Python object that implements the methods fit(X, y) and predict(T).\n",
    "An example of an estimator is the class sklearn.svm.SVC, which implements support vector classification. The estimator’s constructor takes as arguments the model’s parameters."
   ],
   "metadata": {
    "collapsed": false
   },
   "id": "de402674bbc6bed0"
  },
  {
   "cell_type": "code",
   "execution_count": 4,
   "outputs": [],
   "source": [
    "from sklearn import svm\n",
    "clf = svm.SVC(gamma=0.001, C=100.)"
   ],
   "metadata": {
    "collapsed": false,
    "ExecuteTime": {
     "end_time": "2023-10-19T16:52:15.572689300Z",
     "start_time": "2023-10-19T16:52:15.550510200Z"
    }
   },
   "id": "9950208004fb95bc"
  },
  {
   "cell_type": "code",
   "execution_count": 6,
   "outputs": [
    {
     "data": {
      "text/plain": "array([8])"
     },
     "execution_count": 6,
     "metadata": {},
     "output_type": "execute_result"
    }
   ],
   "source": [
    "clf.fit(digits.data[:-1], digits.target[:-1])\n",
    "clf.predict(digits.data[-1:])"
   ],
   "metadata": {
    "collapsed": false,
    "ExecuteTime": {
     "end_time": "2023-10-19T16:52:50.421590500Z",
     "start_time": "2023-10-19T16:52:50.243573100Z"
    }
   },
   "id": "87bf35e31efba12e"
  },
  {
   "cell_type": "markdown",
   "source": [
    "<h3>Conventions</h3>"
   ],
   "metadata": {
    "collapsed": false
   },
   "id": "a7b33924a87ab650"
  },
  {
   "cell_type": "markdown",
   "source": [
    "scikit-learn estimators follow certain rules to make their behavior more predictive"
   ],
   "metadata": {
    "collapsed": false
   },
   "id": "4eac6c288ff66a81"
  },
  {
   "cell_type": "code",
   "execution_count": 4,
   "outputs": [
    {
     "name": "stdout",
     "output_type": "stream",
     "text": [
      "float64\n",
      "float32\n"
     ]
    }
   ],
   "source": [
    "import numpy as np\n",
    "from sklearn import kernel_approximation\n",
    "\n",
    "rng = np.random.RandomState(0)\n",
    "X = rng.rand(10, 2000)\n",
    "print(X.dtype)\n",
    "X = np.array(X, dtype='float32')\n",
    "print(X.dtype)"
   ],
   "metadata": {
    "collapsed": false,
    "ExecuteTime": {
     "end_time": "2023-10-20T15:03:20.816828Z",
     "start_time": "2023-10-20T15:03:20.792749400Z"
    }
   },
   "id": "898b000aafb27b72"
  },
  {
   "cell_type": "markdown",
   "source": [
    "Difference between float32 and float64: float32 is a 32 bit number - float64 uses 64 bits. That means that float64's take up twice as much memory - and doing operations on them may be a lot slower in some machine architectures. However, float64's can represent numbers much more accurately than 32 bit floats. They also allow much larger numbers to be stored."
   ],
   "metadata": {
    "collapsed": false
   },
   "id": "3c3691dca9eaeee7"
  },
  {
   "cell_type": "code",
   "execution_count": 5,
   "outputs": [
    {
     "name": "stdout",
     "output_type": "stream",
     "text": [
      "float32\n"
     ]
    }
   ],
   "source": [
    "transformer = kernel_approximation.RBFSampler()\n",
    "X_new = transformer.fit_transform(X)\n",
    "print(X.dtype)"
   ],
   "metadata": {
    "collapsed": false,
    "ExecuteTime": {
     "end_time": "2023-10-20T15:11:08.243671500Z",
     "start_time": "2023-10-20T15:11:08.188364800Z"
    }
   },
   "id": "321bf5c685c6495a"
  },
  {
   "cell_type": "markdown",
   "source": [
    "In this example, X is float32, and is unchanged by fit_transform(X).\n",
    "Using float32-typed training (or testing) data is often more efficient than using the usual float64 dtype: it allows to reduce the memory usage and sometimes also reduces processing time by leveraging the vector instructions of the CPU. However it can sometimes lead to numerical stability problems causing the algorithm to be more sensitive to the scale of the values and require adequate preprocessing.\n",
    "\n",
    "Keep in mind however that not all scikit-learn estimators attempt to work in float32 mode. For instance, some transformers will always cast their input to float64 and return float64 transformed values as a result.\n",
    "Regression targets are cast to float64 and classification targets are maintained:"
   ],
   "metadata": {
    "collapsed": false
   },
   "id": "9a37d32706fb55ed"
  },
  {
   "cell_type": "code",
   "execution_count": 10,
   "outputs": [
    {
     "name": "stdout",
     "output_type": "stream",
     "text": [
      "[0, 0, 0]\n",
      "['setosa' 'versicolor' 'virginica']\n",
      "[0 0 0 0 0 0 0 0 0 0 0 0 0 0 0 0 0 0 0 0 0 0 0 0 0 0 0 0 0 0 0 0 0 0 0 0 0\n",
      " 0 0 0 0 0 0 0 0 0 0 0 0 0 1 1 1 1 1 1 1 1 1 1 1 1 1 1 1 1 1 1 1 1 1 1 1 1\n",
      " 1 1 1 1 1 1 1 1 1 1 1 1 1 1 1 1 1 1 1 1 1 1 1 1 1 1 2 2 2 2 2 2 2 2 2 2 2\n",
      " 2 2 2 2 2 2 2 2 2 2 2 2 2 2 2 2 2 2 2 2 2 2 2 2 2 2 2 2 2 2 2 2 2 2 2 2 2\n",
      " 2 2]\n",
      "['setosa', 'setosa', 'setosa']\n"
     ]
    }
   ],
   "source": [
    "from sklearn import datasets\n",
    "from sklearn.svm import SVC\n",
    "iris = datasets.load_iris()\n",
    "clf = SVC()\n",
    "clf.fit(iris.data, iris.target)\n",
    "\n",
    "print(list(clf.predict(iris.data[:3])))\n",
    "\n",
    "print(iris.target_names)\n",
    "print(iris.target)\n",
    "clf.fit(iris.data, iris.target_names[iris.target])\n",
    "\n",
    "print(list(clf.predict(iris.data[:3])))"
   ],
   "metadata": {
    "collapsed": false,
    "ExecuteTime": {
     "end_time": "2023-10-20T15:22:10.044393600Z",
     "start_time": "2023-10-20T15:22:10.009845200Z"
    }
   },
   "id": "ca23ed7cb58f26c8"
  },
  {
   "cell_type": "markdown",
   "source": [
    "Here, the first predict() returns an integer array, since iris.target (an integer array) was used in fit. The second predict() returns a string array, since iris.target_names was for fitting."
   ],
   "metadata": {
    "collapsed": false
   },
   "id": "fb7718f9ab2309b2"
  },
  {
   "cell_type": "markdown",
   "source": [
    "<h3>Refitting and updating parameters</h3>"
   ],
   "metadata": {
    "collapsed": false
   },
   "id": "9d66eccb18784c2b"
  },
  {
   "cell_type": "markdown",
   "source": [
    "Hyper-parameters of an estimator can be updated after it has been constructed via the set_params() method. Calling fit() more than once will overwrite what was learned by any previous fit():"
   ],
   "metadata": {
    "collapsed": false
   },
   "id": "2afd2d0e1f3512d7"
  },
  {
   "cell_type": "code",
   "execution_count": 24,
   "outputs": [
    {
     "name": "stdout",
     "output_type": "stream",
     "text": [
      "[0 0 0 0 0]\n",
      "[0 0 0 0 0]\n"
     ]
    }
   ],
   "source": [
    "import numpy as np\n",
    "from sklearn.datasets import load_iris\n",
    "from sklearn.svm import SVC\n",
    "X, y = load_iris(return_X_y=True)\n",
    "\n",
    "clf = SVC()\n",
    "clf.set_params(kernel='linear').fit(X, y)\n",
    "print(clf.predict(X[:5]))\n",
    "#print(X[:5]) # séléctionne les 5 premiers\n",
    "#print(X[1:]) # séléctionne tout sauf le premier\n",
    "#print(X[:-5]) # séléctionne tout sauf les 5 derniers\n",
    "#print(X[-1:]) # sélectionne le dernier élément\n",
    "clf.set_params(kernel='rbf').fit(X, y)\n",
    "print(clf.predict(X[:5]))"
   ],
   "metadata": {
    "collapsed": false,
    "ExecuteTime": {
     "end_time": "2023-10-20T16:03:03.074131200Z",
     "start_time": "2023-10-20T16:03:03.046485300Z"
    }
   },
   "id": "3f82e53b2099f518"
  },
  {
   "cell_type": "markdown",
   "source": [
    "Here, the default kernel rbf is first changed to linear via SVC.set_params() after the estimator has been constructed, and changed back to rbf to refit the estimator and to make a second prediction."
   ],
   "metadata": {
    "collapsed": false
   },
   "id": "a2e751d33732de22"
  },
  {
   "cell_type": "markdown",
   "source": [
    "<h3>Multiclass vs. multilabel fitting</h3>"
   ],
   "metadata": {
    "collapsed": false
   },
   "id": "f3898d72334a2a6"
  },
  {
   "cell_type": "markdown",
   "source": [
    "When using multiclass classifiers, the learning and prediction task that is performed is dependent on the format of the target data fit upon:"
   ],
   "metadata": {
    "collapsed": false
   },
   "id": "dfd6955a2e4d7b45"
  },
  {
   "cell_type": "code",
   "execution_count": 33,
   "outputs": [
    {
     "data": {
      "text/plain": "array([0, 0, 1, 1, 2])"
     },
     "execution_count": 33,
     "metadata": {},
     "output_type": "execute_result"
    }
   ],
   "source": [
    "from sklearn.svm import SVC\n",
    "from sklearn.multiclass import OneVsRestClassifier\n",
    "from sklearn.preprocessing import LabelBinarizer\n",
    "\n",
    "X = [[1, 2], [2, 4], [4, 5], [3, 2], [3, 1]]\n",
    "y = [0, 0, 1, 1, 2]\n",
    "\n",
    "classif = OneVsRestClassifier(estimator=SVC(random_state=0))\n",
    "classif.fit(X, y).predict(X)"
   ],
   "metadata": {
    "collapsed": false,
    "ExecuteTime": {
     "end_time": "2023-10-20T16:13:45.830433500Z",
     "start_time": "2023-10-20T16:13:45.804931600Z"
    }
   },
   "id": "8948c5ab4e189d23"
  },
  {
   "cell_type": "markdown",
   "source": [
    "In the above case, the classifier is fit on a 1d array of multiclass labels and the predict() method therefore provides corresponding multiclass predictions. It is also possible to fit upon a 2d array of binary label indicators:"
   ],
   "metadata": {
    "collapsed": false
   },
   "id": "93b69370a9c66710"
  },
  {
   "cell_type": "code",
   "execution_count": 34,
   "outputs": [
    {
     "name": "stdout",
     "output_type": "stream",
     "text": [
      "[[1 0 0]\n",
      " [1 0 0]\n",
      " [0 1 0]\n",
      " [0 1 0]\n",
      " [0 0 1]]\n"
     ]
    },
    {
     "data": {
      "text/plain": "array([[1, 0, 0],\n       [1, 0, 0],\n       [0, 1, 0],\n       [0, 0, 0],\n       [0, 0, 0]])"
     },
     "execution_count": 34,
     "metadata": {},
     "output_type": "execute_result"
    }
   ],
   "source": [
    "y = LabelBinarizer().fit_transform(y)\n",
    "print(y)\n",
    "classif.fit(X, y).predict(X)"
   ],
   "metadata": {
    "collapsed": false,
    "ExecuteTime": {
     "end_time": "2023-10-20T16:13:47.754396500Z",
     "start_time": "2023-10-20T16:13:47.686556900Z"
    }
   },
   "id": "99cc776f05c87b50"
  },
  {
   "cell_type": "markdown",
   "source": [
    "Here, the classifier is fit() on a 2d binary label representation of y, using the LabelBinarizer. In this case predict() returns a 2d array representing the corresponding multilabel predictions."
   ],
   "metadata": {
    "collapsed": false
   },
   "id": "a84f7c25b2da063f"
  },
  {
   "cell_type": "markdown",
   "source": [
    "Note that the fourth and fifth instances returned all zeroes, indicating that they matched none of the three labels fit upon. With multilabel outputs, it is similarly possible for an instance to be assigned multiple labels:"
   ],
   "metadata": {
    "collapsed": false
   },
   "id": "88d2c1b8a76d04b6"
  },
  {
   "cell_type": "code",
   "execution_count": 35,
   "outputs": [
    {
     "name": "stdout",
     "output_type": "stream",
     "text": [
      "[[1 1 0 0 0]\n",
      " [1 0 1 0 0]\n",
      " [0 1 0 1 0]\n",
      " [1 0 1 1 0]\n",
      " [0 0 1 0 1]]\n"
     ]
    },
    {
     "data": {
      "text/plain": "array([[1, 1, 0, 0, 0],\n       [1, 0, 1, 0, 0],\n       [0, 1, 0, 1, 0],\n       [1, 0, 1, 0, 0],\n       [1, 0, 1, 0, 0]])"
     },
     "execution_count": 35,
     "metadata": {},
     "output_type": "execute_result"
    }
   ],
   "source": [
    "from sklearn.preprocessing import MultiLabelBinarizer\n",
    "y = [[0, 1], [0, 2], [1, 3], [0, 2, 3], [2, 4]]\n",
    "y = MultiLabelBinarizer().fit_transform(y)\n",
    "print(y)\n",
    "classif.fit(X, y).predict(X)"
   ],
   "metadata": {
    "collapsed": false,
    "ExecuteTime": {
     "end_time": "2023-10-20T16:17:54.919870300Z",
     "start_time": "2023-10-20T16:17:54.877860100Z"
    }
   },
   "id": "98387d5a0669c156"
  },
  {
   "cell_type": "markdown",
   "source": [
    "In this case, the classifier is fit upon instances each assigned multiple labels. The MultiLabelBinarizer is used to binarize the 2d array of multilabels to fit upon. As a result, predict() returns a 2d array with multiple predicted labels for each instance."
   ],
   "metadata": {
    "collapsed": false
   },
   "id": "9e24881c21708eef"
  },
  {
   "cell_type": "markdown",
   "source": [
    "Example of situation where you need MultiLabelBinarizer"
   ],
   "metadata": {
    "collapsed": false
   },
   "id": "18ffff413576b1dd"
  },
  {
   "cell_type": "code",
   "execution_count": 1,
   "outputs": [
    {
     "name": "stdout",
     "output_type": "stream",
     "text": [
      "[[0 0 1 0 0 1 0]\n",
      " [1 1 0 0 0 0 0]\n",
      " [0 0 0 1 0 0 0]\n",
      " [0 0 0 0 1 0 1]]\n"
     ]
    }
   ],
   "source": [
    "from sklearn.preprocessing import MultiLabelBinarizer\n",
    "\n",
    "# Sample data\n",
    "genres = [\"Romance, Comedy\", \"Action, Adventure\", \"Drama\", \"Horror, Thriller\"]\n",
    "\n",
    "# Create an instance of MultiLabelBinarizer\n",
    "mlb = MultiLabelBinarizer()\n",
    "\n",
    "# Fit and transform the genres\n",
    "binary_genre_matrix = mlb.fit_transform([genre.split(\", \") for genre in genres])\n",
    "\n",
    "print(binary_genre_matrix)"
   ],
   "metadata": {
    "collapsed": false,
    "ExecuteTime": {
     "end_time": "2023-10-23T20:00:42.506698300Z",
     "start_time": "2023-10-23T20:00:30.040399100Z"
    }
   },
   "id": "787664ab7c2543c1"
  },
  {
   "cell_type": "markdown",
   "source": [
    "Each row corresponds to a movie, and each column corresponds to a genre. The presence of a genre is indicated by a 1, and its absence is indicated by a 0. In this way, you can prepare your data for training a multi-label classification model to recommend movies based on user preferences for different genres."
   ],
   "metadata": {
    "collapsed": false
   },
   "id": "52f8536f3e80325b"
  }
 ],
 "metadata": {
  "kernelspec": {
   "display_name": "Python 3",
   "language": "python",
   "name": "python3"
  },
  "language_info": {
   "codemirror_mode": {
    "name": "ipython",
    "version": 2
   },
   "file_extension": ".py",
   "mimetype": "text/x-python",
   "name": "python",
   "nbconvert_exporter": "python",
   "pygments_lexer": "ipython2",
   "version": "2.7.6"
  }
 },
 "nbformat": 4,
 "nbformat_minor": 5
}
