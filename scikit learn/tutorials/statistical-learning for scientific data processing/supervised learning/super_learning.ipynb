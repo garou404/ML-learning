{
 "cells": [
  {
   "cell_type": "markdown",
   "source": [
    "<h3>Supervised learning: predicting an output variable from high-dimensional observations</h3>"
   ],
   "metadata": {
    "collapsed": false
   },
   "id": "cbb192ebe484ff1c"
  },
  {
   "cell_type": "markdown",
   "source": [
    "<h4>Nearest neighbor and the curse of dimensionality</h4>"
   ],
   "metadata": {
    "collapsed": false
   },
   "id": "f0c315503831cd17"
  },
  {
   "cell_type": "markdown",
   "source": [
    "The iris dataset is a classification task consisting in identifying 3 different types of irises (Setosa, Versicolour, and Virginica) from their petal and sepal length and width:"
   ],
   "metadata": {
    "collapsed": false
   },
   "id": "679f00d3085f35d7"
  },
  {
   "cell_type": "code",
   "execution_count": 1,
   "id": "initial_id",
   "metadata": {
    "collapsed": true,
    "ExecuteTime": {
     "end_time": "2023-10-23T20:55:10.152547300Z",
     "start_time": "2023-10-23T20:55:04.082606Z"
    }
   },
   "outputs": [
    {
     "data": {
      "text/plain": "array([0, 1, 2])"
     },
     "execution_count": 1,
     "metadata": {},
     "output_type": "execute_result"
    }
   ],
   "source": [
    "import numpy as np\n",
    "from sklearn import datasets\n",
    "iris_X, iris_y = datasets.load_iris(return_X_y=True)\n",
    "np.unique(iris_y)"
   ]
  },
  {
   "cell_type": "markdown",
   "source": [
    "np.unique: Find the unique elements of an array.\n",
    "Returns the sorted unique elements of an array. There are three optional outputs in addition to the unique elements:\n",
    "np.unique([1, 1, 2, 2, 3, 3])\n",
    "array([1, 2, 3])"
   ],
   "metadata": {
    "collapsed": false
   },
   "id": "6e2263f406432dff"
  }
 ],
 "metadata": {
  "kernelspec": {
   "display_name": "Python 3",
   "language": "python",
   "name": "python3"
  },
  "language_info": {
   "codemirror_mode": {
    "name": "ipython",
    "version": 2
   },
   "file_extension": ".py",
   "mimetype": "text/x-python",
   "name": "python",
   "nbconvert_exporter": "python",
   "pygments_lexer": "ipython2",
   "version": "2.7.6"
  }
 },
 "nbformat": 4,
 "nbformat_minor": 5
}
