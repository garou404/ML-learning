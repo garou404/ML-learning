{
 "cells": [
  {
   "cell_type": "markdown",
   "source": [
    "<h3>Supervised learning: predicting an output variable from high-dimensional observations</h3>"
   ],
   "metadata": {
    "collapsed": false
   },
   "id": "cbb192ebe484ff1c"
  },
  {
   "cell_type": "markdown",
   "source": [
    "<h4>Nearest neighbor and the curse of dimensionality</h4>"
   ],
   "metadata": {
    "collapsed": false
   },
   "id": "f0c315503831cd17"
  },
  {
   "cell_type": "markdown",
   "source": [
    "The iris dataset is a classification task consisting in identifying 3 different types of irises (Setosa, Versicolour, and Virginica) from their petal and sepal length and width:"
   ],
   "metadata": {
    "collapsed": false
   },
   "id": "679f00d3085f35d7"
  },
  {
   "cell_type": "code",
   "execution_count": 2,
   "id": "initial_id",
   "metadata": {
    "collapsed": true,
    "ExecuteTime": {
     "end_time": "2023-10-25T20:00:45.167597300Z",
     "start_time": "2023-10-25T20:00:39.418671700Z"
    }
   },
   "outputs": [
    {
     "data": {
      "text/plain": "array([0, 1, 2])"
     },
     "execution_count": 2,
     "metadata": {},
     "output_type": "execute_result"
    }
   ],
   "source": [
    "import numpy as np\n",
    "from sklearn import datasets\n",
    "iris_X, iris_y = datasets.load_iris(return_X_y=True)\n",
    "np.unique(iris_y)"
   ]
  },
  {
   "cell_type": "markdown",
   "source": [
    "np.unique: Find the unique elements of an array.\n",
    "Returns the sorted unique elements of an array. There are three optional outputs in addition to the unique elements:\n",
    "np.unique([1, 1, 2, 2, 3, 3])\n",
    "array([1, 2, 3])"
   ],
   "metadata": {
    "collapsed": false
   },
   "id": "6e2263f406432dff"
  },
  {
   "cell_type": "markdown",
   "source": [
    "<h3>k-Nearest neighbors classifier</h3>"
   ],
   "metadata": {
    "collapsed": false
   },
   "id": "5b46fc3520fa9fdc"
  },
  {
   "cell_type": "code",
   "execution_count": 5,
   "outputs": [
    {
     "name": "stdout",
     "output_type": "stream",
     "text": [
      "[1 2 1 0 0 0 2 1 2 0]\n",
      "[1 1 1 0 0 0 2 1 2 0]\n"
     ]
    }
   ],
   "source": [
    "np.random.seed(0)\n",
    "indices = np.random.permutation(len(iris_X))\n",
    "#print(indices)\n",
    "iris_X_train = iris_X[indices[:-10]]\n",
    "iris_y_train = iris_y[indices[:-10]]\n",
    "iris_X_test = iris_X[indices[-10:]]\n",
    "iris_y_test = iris_y[indices[-10:]]\n",
    "\n",
    "from sklearn.neighbors import KNeighborsClassifier\n",
    "knn = KNeighborsClassifier()\n",
    "knn.fit(iris_X_train, iris_y_train)\n",
    "\n",
    "print(knn.predict(iris_X_test))\n",
    "print(iris_y_test)"
   ],
   "metadata": {
    "collapsed": false,
    "ExecuteTime": {
     "end_time": "2023-10-25T20:24:06.703633500Z",
     "start_time": "2023-10-25T20:24:04.700083100Z"
    }
   },
   "id": "1de5087cce0a3c20"
  },
  {
   "cell_type": "markdown",
   "source": [
    "<h4>Linear model: from regression to sparsity</h4>"
   ],
   "metadata": {
    "collapsed": false
   },
   "id": "e070ec4696d5dfbf"
  },
  {
   "cell_type": "code",
   "execution_count": 14,
   "outputs": [],
   "source": [
    "diabetes_X, diabetes_y = datasets.load_diabetes(return_X_y=True)\n",
    "diabetes_X_train = diabetes_X[:-20]\n",
    "diabetes_y_train = diabetes_y[:-20]\n",
    "diabetes_X_test = diabetes_X[-20:]\n",
    "diabetes_y_test = diabetes_y[-20:]"
   ],
   "metadata": {
    "collapsed": false,
    "ExecuteTime": {
     "end_time": "2023-10-25T20:58:29.620926200Z",
     "start_time": "2023-10-25T20:58:29.607114300Z"
    }
   },
   "id": "7b38540be3fc8c54"
  },
  {
   "cell_type": "markdown",
   "source": [
    "LinearRegression, in its simplest form, fits a linear model to the data set by adjusting a set of parameters in order to make the sum of the squared residuals of the model as small as possible."
   ],
   "metadata": {
    "collapsed": false
   },
   "id": "2d009f2a46eeecdc"
  },
  {
   "cell_type": "code",
   "execution_count": 28,
   "outputs": [
    {
     "name": "stdout",
     "output_type": "stream",
     "text": [
      "[ 3.06094248e-01 -2.37635570e+02  5.10538048e+02  3.27729878e+02\n",
      " -8.14111926e+02  4.92799595e+02  1.02841240e+02  1.84603496e+02\n",
      "  7.43509388e+02  7.60966464e+01]\n"
     ]
    },
    {
     "data": {
      "text/plain": "0.585085427447195"
     },
     "execution_count": 28,
     "metadata": {},
     "output_type": "execute_result"
    }
   ],
   "source": [
    "from sklearn import linear_model\n",
    "regr = linear_model.LinearRegression()\n",
    "regr.fit(diabetes_X_train, diabetes_y_train)\n",
    "print(regr.coef_)\n",
    "\n",
    "# the mean square error\n",
    "test = np.mean((regr.predict(diabetes_X_test) - diabetes_y_test)**2)\n",
    "\n",
    "# Explained variance score: 1 is perfect prediction\n",
    "# and 0 means that there is no relationship\n",
    "# between X and y\n",
    "regr.score(diabetes_X_test, diabetes_y_test)"
   ],
   "metadata": {
    "collapsed": false,
    "ExecuteTime": {
     "end_time": "2023-10-25T21:00:17.553432400Z",
     "start_time": "2023-10-25T21:00:17.535916900Z"
    }
   },
   "id": "ebc41f1621de84c0"
  }
 ],
 "metadata": {
  "kernelspec": {
   "display_name": "Python 3",
   "language": "python",
   "name": "python3"
  },
  "language_info": {
   "codemirror_mode": {
    "name": "ipython",
    "version": 2
   },
   "file_extension": ".py",
   "mimetype": "text/x-python",
   "name": "python",
   "nbconvert_exporter": "python",
   "pygments_lexer": "ipython2",
   "version": "2.7.6"
  }
 },
 "nbformat": 4,
 "nbformat_minor": 5
}
